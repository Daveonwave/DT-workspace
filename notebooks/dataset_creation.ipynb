{
 "cells": [
  {
   "cell_type": "code",
   "execution_count": 46,
   "id": "660dc26d",
   "metadata": {},
   "outputs": [],
   "source": [
    "import torch\n",
    "import pandas as pd\n",
    "import os\n",
    "from pathlib import Path\n",
    "from sklearn.model_selection import train_test_split\n",
    "import numpy as np\n",
    "import tqdm\n",
    "import copy\n",
    "from matplotlib import pyplot as plt"
   ]
  },
  {
   "cell_type": "markdown",
   "id": "3753ba97",
   "metadata": {},
   "source": [
    "## Create single checkup datasets"
   ]
  },
  {
   "cell_type": "code",
   "execution_count": 47,
   "id": "28158929",
   "metadata": {},
   "outputs": [],
   "source": [
    "def create_checkup_datasets():\n",
    "    \n",
    "    init_temps = [270.15, 283.15, 296.15, 307.65, 318.65]\n",
    "    t_amb = [270.15, 283.15, 296.15, 307.65, 318.15]\n",
    "    \n",
    "    ground_list = []\n",
    "    sim_list = []\n",
    "\n",
    "    for i in range(5):\n",
    "        file_name = str(10*i) + '.csv'\n",
    "        ground_list.append(pd.read_csv(\"nn_data/ground_{}\".format(file_name)))\n",
    "        temp_1 = ground_list[i]['temperature'].tolist()\n",
    "        temp_1.insert(0, init_temps[i])\n",
    "        ground_list[i]['t_amb'] = [t_amb[i]] * len(ground_list[i])\n",
    "        ground_list[i]['lag-1'] = ground_list[i]['temperature'].shift(1)\n",
    "        ground_list[i]['lag-2'] = ground_list[i]['lag-1'].shift(1)\n",
    "        ground_list[i]['lag-3'] = ground_list[i]['lag-2'].shift(1)\n",
    "        ground_list[i]['lag-4'] = ground_list[i]['lag-3'].shift(1)\n",
    "        ground_list[i]['lag-5'] = ground_list[i]['lag-4'].shift(1)\n",
    "        ground_list[i]['rolling_5'] = ground_list[i]['temperature'].rolling(window=5, min_periods=1).mean()\n",
    "        ground_list[i]['rolling_10'] = ground_list[i]['temperature'].rolling(window=20, min_periods=1).mean()\n",
    "        ground_list[i]['rolling_25'] = ground_list[i]['temperature'].rolling(window=5, min_periods=1).mean()\n",
    "        ground_list[i]['t_amb'] = [t_amb[i]] * len(ground_list[i])\n",
    "\n",
    "        sim_list.append(pd.read_csv(\"nn_data/dataset_{}\".format(file_name)))\n",
    "        ground_list[i]['heat'] = sim_list[i]['heat'].tolist()[1:]\n",
    "        ground_list[i]['voltage_sim'] = sim_list[i]['voltage'].tolist()[1:]\n",
    "        \n",
    "        ground_list[i].to_csv('nn_data/train_{}'.format(file_name), index=False)\n",
    "    \n",
    "    return ground_list"
   ]
  },
  {
   "cell_type": "code",
   "execution_count": 48,
   "id": "52989924",
   "metadata": {},
   "outputs": [],
   "source": [
    "datasets = create_checkup_datasets()"
   ]
  },
  {
   "cell_type": "code",
   "execution_count": 49,
   "id": "b4a4ff70",
   "metadata": {},
   "outputs": [],
   "source": [
    "ground = pd.concat(datasets, ignore_index=True)\n",
    "ground.to_csv('nn_data/full_train.csv', index=False)"
   ]
  },
  {
   "cell_type": "code",
   "execution_count": null,
   "id": "d10f1ec0",
   "metadata": {},
   "outputs": [],
   "source": []
  },
  {
   "cell_type": "markdown",
   "id": "59239de6",
   "metadata": {},
   "source": [
    "## Create PV1 and PV2 datasets"
   ]
  },
  {
   "cell_type": "code",
   "execution_count": 50,
   "id": "9065868b",
   "metadata": {},
   "outputs": [],
   "source": [
    "def create_pv_datasets():\n",
    "    init_temps = [295.15, 295.15]\n",
    "    t_amb = [295.15, 295.15]\n",
    "    \n",
    "    ground_list = []\n",
    "    sim_list = []\n",
    "\n",
    "    for i in range(2):\n",
    "        file_name = 'pv' + str(i+1) + '.csv'\n",
    "        ground_list.append(pd.read_csv(\"nn_data/ground_{}\".format(file_name)))\n",
    "        temp_1 = ground_list[i]['temperature'].tolist()\n",
    "        temp_1.insert(0, init_temps[i])\n",
    "        ground_list[i]['t_amb'] = [t_amb[i]] * len(ground_list[i])\n",
    "        ground_list[i]['lag-1'] = ground_list[i]['temperature'].shift(1)\n",
    "        ground_list[i]['lag-2'] = ground_list[i]['lag-1'].shift(1)\n",
    "        ground_list[i]['lag-3'] = ground_list[i]['lag-2'].shift(1)\n",
    "        ground_list[i]['lag-4'] = ground_list[i]['lag-3'].shift(1)\n",
    "        ground_list[i]['lag-5'] = ground_list[i]['lag-4'].shift(1)\n",
    "        ground_list[i]['rolling_5'] = ground_list[i]['temperature'].rolling(window=5, min_periods=1).mean()\n",
    "        ground_list[i]['rolling_10'] = ground_list[i]['temperature'].rolling(window=20, min_periods=1).mean()\n",
    "        ground_list[i]['rolling_25'] = ground_list[i]['temperature'].rolling(window=5, min_periods=1).mean()\n",
    "        ground_list[i]['t_amb'] = [t_amb[i]] * len(ground_list[i])\n",
    "\n",
    "        sim_list.append(pd.read_csv(\"nn_data/dataset_{}\".format(file_name)))\n",
    "        ground_list[i]['heat'] = sim_list[i]['heat'].tolist()[1:]\n",
    "        ground_list[i]['voltage_sim'] = sim_list[i]['voltage'].tolist()[1:]\n",
    "        \n",
    "        ground_list[i].to_csv('nn_data/train_{}'.format(file_name), index=False)\n",
    "    \n",
    "    return ground_list"
   ]
  },
  {
   "cell_type": "code",
   "execution_count": 51,
   "id": "32e79bac",
   "metadata": {},
   "outputs": [],
   "source": [
    "pv_datasets = create_pv_datasets()"
   ]
  },
  {
   "cell_type": "code",
   "execution_count": 52,
   "id": "b450ac33",
   "metadata": {},
   "outputs": [
    {
     "data": {
      "text/plain": [
       "[        current  voltage  temperature      power      time   t_amb     lag-1  \\\n",
       " 0       10.0085   3.5802     294.6195  35.832684       0.0  295.15       NaN   \n",
       " 1       10.0056   3.5905     294.5774  35.925229       1.0  295.15  294.6195   \n",
       " 2       10.0056   3.5921     294.5694  35.940675       2.0  295.15  294.5774   \n",
       " 3       10.0051   3.5936     294.5845  35.954372       3.0  295.15  294.5694   \n",
       " 4       10.0089   3.5946     294.6684  35.978527       4.0  295.15  294.5845   \n",
       " ...         ...      ...          ...        ...       ...     ...       ...   \n",
       " 100582  -0.2434   3.7304     295.1057  -0.908100  100582.0  295.15  295.0694   \n",
       " 100583  -0.2434   3.7305     295.1095  -0.908131  100583.0  295.15  295.1057   \n",
       " 100584  -0.2231   3.7303     295.0694  -0.832411  100584.0  295.15  295.1095   \n",
       " 100585  -0.2322   3.7305     295.1321  -0.866088  100585.0  295.15  295.0694   \n",
       " 100586  -0.2502   3.7302     295.1248  -0.933277  100586.0  295.15  295.1321   \n",
       " \n",
       "            lag-2     lag-3     lag-4     lag-5   rolling_5  rolling_10  \\\n",
       " 0            NaN       NaN       NaN       NaN  294.619500  294.619500   \n",
       " 1            NaN       NaN       NaN       NaN  294.598450  294.598450   \n",
       " 2       294.6195       NaN       NaN       NaN  294.588767  294.588767   \n",
       " 3       294.5774  294.6195       NaN       NaN  294.587700  294.587700   \n",
       " 4       294.5694  294.5774  294.6195       NaN  294.603840  294.603840   \n",
       " ...          ...       ...       ...       ...         ...         ...   \n",
       " 100582  295.0558  295.0668  295.0767  295.1106  295.074880  295.085715   \n",
       " 100583  295.0694  295.0558  295.0668  295.0767  295.081440  295.087240   \n",
       " 100584  295.1057  295.0694  295.0558  295.0668  295.081960  295.088715   \n",
       " 100585  295.1095  295.1057  295.0694  295.0558  295.097220  295.091515   \n",
       " 100586  295.0694  295.1095  295.1057  295.0694  295.108300  295.092810   \n",
       " \n",
       "         rolling_25      heat  voltage_sim  \n",
       " 0       294.619500  0.297667     3.621976  \n",
       " 1       294.598450  0.298535     3.622555  \n",
       " 2       294.588767  0.298963     3.622997  \n",
       " 3       294.587700  0.299151     3.623381  \n",
       " 4       294.603840  0.299468     3.623737  \n",
       " ...            ...       ...          ...  \n",
       " 100582  295.074880  0.000375     3.736830  \n",
       " 100583  295.081440  0.000375     3.736823  \n",
       " 100584  295.081960  0.000347     3.736881  \n",
       " 100585  295.097220  0.000358     3.736860  \n",
       " 100586  295.108300  0.000383     3.736798  \n",
       " \n",
       " [100587 rows x 16 columns],\n",
       "        current  voltage  temperature      power     time   t_amb     lag-1  \\\n",
       " 0       9.9977   3.7651     295.7052  37.642267      0.0  295.15       NaN   \n",
       " 1       9.9995   3.7715     295.7561  37.713150      1.0  295.15  295.7052   \n",
       " 2       9.9995   3.7729     295.6832  37.726665      2.0  295.15  295.7561   \n",
       " 3      10.0022   3.7740     295.6290  37.748338      3.0  295.15  295.6832   \n",
       " 4       9.9972   3.7749     295.6512  37.738653      4.0  295.15  295.6290   \n",
       " ...        ...      ...          ...        ...      ...     ...       ...   \n",
       " 97333  -0.2322   3.7295     294.6920  -0.865850  97333.0  295.15  294.7120   \n",
       " 97334  -0.2367   3.7296     294.6675  -0.882693  97334.0  295.15  294.6920   \n",
       " 97335  -0.2434   3.7295     294.7581  -0.907882  97335.0  295.15  294.6675   \n",
       " 97336  -0.2525   3.7299     294.7072  -0.941604  97336.0  295.15  294.7581   \n",
       " 97337  -0.2344   3.7297     294.6709  -0.874302  97337.0  295.15  294.7072   \n",
       " \n",
       "           lag-2     lag-3     lag-4     lag-5   rolling_5  rolling_10  \\\n",
       " 0           NaN       NaN       NaN       NaN  295.705200  295.705200   \n",
       " 1           NaN       NaN       NaN       NaN  295.730650  295.730650   \n",
       " 2      295.7052       NaN       NaN       NaN  295.714833  295.714833   \n",
       " 3      295.7561  295.7052       NaN       NaN  295.693375  295.693375   \n",
       " 4      295.6832  295.7561  295.7052       NaN  295.684940  295.684940   \n",
       " ...         ...       ...       ...       ...         ...         ...   \n",
       " 97333  294.7000  294.7107  294.6853  294.6821  294.700000  294.685750   \n",
       " 97334  294.7120  294.7000  294.7107  294.6853  294.696440  294.683155   \n",
       " 97335  294.6920  294.7120  294.7000  294.7107  294.705920  294.689600   \n",
       " 97336  294.6675  294.6920  294.7120  294.7000  294.707360  294.693140   \n",
       " 97337  294.7581  294.6675  294.6920  294.7120  294.699140  294.694405   \n",
       " \n",
       "        rolling_25      heat  voltage_sim  \n",
       " 0      295.705200  0.282699     3.833701  \n",
       " 1      295.730650  0.278834     3.833621  \n",
       " 2      295.714833  0.278530     3.833906  \n",
       " 3      295.693375  0.279295     3.834290  \n",
       " 4      295.684940  0.279521     3.834637  \n",
       " ...           ...       ...          ...  \n",
       " 97333  294.700000  0.000363     3.736460  \n",
       " 97334  294.696440  0.000368     3.736449  \n",
       " 97335  294.705920  0.000377     3.736432  \n",
       " 97336  294.707360  0.000390     3.736391  \n",
       " 97337  294.699140  0.000364     3.736450  \n",
       " \n",
       " [97338 rows x 16 columns]]"
      ]
     },
     "execution_count": 52,
     "metadata": {},
     "output_type": "execute_result"
    }
   ],
   "source": [
    "pv_datasets"
   ]
  },
  {
   "cell_type": "code",
   "execution_count": null,
   "id": "11819347",
   "metadata": {},
   "outputs": [],
   "source": []
  }
 ],
 "metadata": {
  "kernelspec": {
   "display_name": "Python 3 (ipykernel)",
   "language": "python",
   "name": "python3"
  },
  "language_info": {
   "codemirror_mode": {
    "name": "ipython",
    "version": 3
   },
   "file_extension": ".py",
   "mimetype": "text/x-python",
   "name": "python",
   "nbconvert_exporter": "python",
   "pygments_lexer": "ipython3",
   "version": "3.8.16"
  }
 },
 "nbformat": 4,
 "nbformat_minor": 5
}
